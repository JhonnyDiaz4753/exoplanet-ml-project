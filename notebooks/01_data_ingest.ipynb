{
 "cells": [
  {
   "cell_type": "code",
   "execution_count": 9,
   "id": "2ee044b0",
   "metadata": {},
   "outputs": [
    {
     "name": "stdout",
     "output_type": "stream",
     "text": [
      "\n",
      "Descargando estrellas sin planetas (negativas)...\n"
     ]
    },
    {
     "name": "stderr",
     "output_type": "stream",
     "text": [
      "C:\\Users\\remon\\AppData\\Local\\Temp\\ipykernel_13560\\1587124623.py:19: LightkurveDeprecationWarning: The search_lightcurvefile function is deprecated and may be removed in a future version.\n",
      "        Use search_lightcurve() instead.\n",
      "  result = lk.search_lightcurvefile(star, mission=\"Kepler\")\n",
      "c:\\Users\\remon\\OneDrive\\Escritorio\\exoplanet-ml-project\\venv\\Lib\\site-packages\\lightkurve\\search.py:420: LightkurveWarning: Warning: 18 files available to download. Only the first file has been downloaded. Please use `download_all()` or specify additional criteria (e.g. quarter, campaign, or sector) to limit your search.\n",
      "  warnings.warn(\n",
      "C:\\Users\\remon\\AppData\\Local\\Temp\\ipykernel_13560\\1587124623.py:21: LightkurveDeprecationWarning: The PDCSAP_FLUX function is deprecated and may be removed in a future version.\n",
      "  lc = lcf.PDCSAP_FLUX.remove_nans().normalize()\n"
     ]
    },
    {
     "name": "stdout",
     "output_type": "stream",
     "text": [
      "✔️ KIC 757076 descargado.\n"
     ]
    },
    {
     "name": "stderr",
     "output_type": "stream",
     "text": [
      "C:\\Users\\remon\\AppData\\Local\\Temp\\ipykernel_13560\\1587124623.py:19: LightkurveDeprecationWarning: The search_lightcurvefile function is deprecated and may be removed in a future version.\n",
      "        Use search_lightcurve() instead.\n",
      "  result = lk.search_lightcurvefile(star, mission=\"Kepler\")\n",
      "c:\\Users\\remon\\OneDrive\\Escritorio\\exoplanet-ml-project\\venv\\Lib\\site-packages\\lightkurve\\search.py:420: LightkurveWarning: Warning: 18 files available to download. Only the first file has been downloaded. Please use `download_all()` or specify additional criteria (e.g. quarter, campaign, or sector) to limit your search.\n",
      "  warnings.warn(\n",
      "C:\\Users\\remon\\AppData\\Local\\Temp\\ipykernel_13560\\1587124623.py:21: LightkurveDeprecationWarning: The PDCSAP_FLUX function is deprecated and may be removed in a future version.\n",
      "  lc = lcf.PDCSAP_FLUX.remove_nans().normalize()\n"
     ]
    },
    {
     "name": "stdout",
     "output_type": "stream",
     "text": [
      "✔️ KIC 757280 descargado.\n"
     ]
    },
    {
     "name": "stderr",
     "output_type": "stream",
     "text": [
      "C:\\Users\\remon\\AppData\\Local\\Temp\\ipykernel_13560\\1587124623.py:19: LightkurveDeprecationWarning: The search_lightcurvefile function is deprecated and may be removed in a future version.\n",
      "        Use search_lightcurve() instead.\n",
      "  result = lk.search_lightcurvefile(star, mission=\"Kepler\")\n",
      "c:\\Users\\remon\\OneDrive\\Escritorio\\exoplanet-ml-project\\venv\\Lib\\site-packages\\lightkurve\\search.py:420: LightkurveWarning: Warning: 35 files available to download. Only the first file has been downloaded. Please use `download_all()` or specify additional criteria (e.g. quarter, campaign, or sector) to limit your search.\n",
      "  warnings.warn(\n",
      "C:\\Users\\remon\\AppData\\Local\\Temp\\ipykernel_13560\\1587124623.py:21: LightkurveDeprecationWarning: The PDCSAP_FLUX function is deprecated and may be removed in a future version.\n",
      "  lc = lcf.PDCSAP_FLUX.remove_nans().normalize()\n"
     ]
    },
    {
     "name": "stdout",
     "output_type": "stream",
     "text": [
      "✔️ KIC 757450 descargado.\n"
     ]
    },
    {
     "name": "stderr",
     "output_type": "stream",
     "text": [
      "C:\\Users\\remon\\AppData\\Local\\Temp\\ipykernel_13560\\1587124623.py:19: LightkurveDeprecationWarning: The search_lightcurvefile function is deprecated and may be removed in a future version.\n",
      "        Use search_lightcurve() instead.\n",
      "  result = lk.search_lightcurvefile(star, mission=\"Kepler\")\n",
      "c:\\Users\\remon\\OneDrive\\Escritorio\\exoplanet-ml-project\\venv\\Lib\\site-packages\\lightkurve\\search.py:420: LightkurveWarning: Warning: 35 files available to download. Only the first file has been downloaded. Please use `download_all()` or specify additional criteria (e.g. quarter, campaign, or sector) to limit your search.\n",
      "  warnings.warn(\n",
      "C:\\Users\\remon\\AppData\\Local\\Temp\\ipykernel_13560\\1587124623.py:21: LightkurveDeprecationWarning: The PDCSAP_FLUX function is deprecated and may be removed in a future version.\n",
      "  lc = lcf.PDCSAP_FLUX.remove_nans().normalize()\n"
     ]
    },
    {
     "name": "stdout",
     "output_type": "stream",
     "text": [
      "✔️ KIC 757450 descargado.\n"
     ]
    },
    {
     "name": "stderr",
     "output_type": "stream",
     "text": [
      "C:\\Users\\remon\\AppData\\Local\\Temp\\ipykernel_13560\\1587124623.py:19: LightkurveDeprecationWarning: The search_lightcurvefile function is deprecated and may be removed in a future version.\n",
      "        Use search_lightcurve() instead.\n",
      "  result = lk.search_lightcurvefile(star, mission=\"Kepler\")\n",
      "Could not resolve KIC 7570766 to a sky position.\n",
      "c:\\Users\\remon\\OneDrive\\Escritorio\\exoplanet-ml-project\\venv\\Lib\\site-packages\\lightkurve\\search.py:415: LightkurveWarning: Cannot download from an empty search result.\n",
      "  warnings.warn(\n",
      "C:\\Users\\remon\\AppData\\Local\\Temp\\ipykernel_13560\\1587124623.py:19: LightkurveDeprecationWarning: The search_lightcurvefile function is deprecated and may be removed in a future version.\n",
      "        Use search_lightcurve() instead.\n",
      "  result = lk.search_lightcurvefile(star, mission=\"Kepler\")\n"
     ]
    },
    {
     "name": "stdout",
     "output_type": "stream",
     "text": [
      "❌ Error con KIC 7570766: 'NoneType' object has no attribute 'PDCSAP_FLUX'\n"
     ]
    },
    {
     "name": "stderr",
     "output_type": "stream",
     "text": [
      "Could not resolve KIC 10000100 to a sky position.\n",
      "c:\\Users\\remon\\OneDrive\\Escritorio\\exoplanet-ml-project\\venv\\Lib\\site-packages\\lightkurve\\search.py:415: LightkurveWarning: Cannot download from an empty search result.\n",
      "  warnings.warn(\n",
      "C:\\Users\\remon\\AppData\\Local\\Temp\\ipykernel_13560\\1587124623.py:19: LightkurveDeprecationWarning: The search_lightcurvefile function is deprecated and may be removed in a future version.\n",
      "        Use search_lightcurve() instead.\n",
      "  result = lk.search_lightcurvefile(star, mission=\"Kepler\")\n"
     ]
    },
    {
     "name": "stdout",
     "output_type": "stream",
     "text": [
      "❌ Error con KIC 10000100: 'NoneType' object has no attribute 'PDCSAP_FLUX'\n"
     ]
    },
    {
     "name": "stderr",
     "output_type": "stream",
     "text": [
      "Could not resolve KIC 10000200 to a sky position.\n",
      "c:\\Users\\remon\\OneDrive\\Escritorio\\exoplanet-ml-project\\venv\\Lib\\site-packages\\lightkurve\\search.py:415: LightkurveWarning: Cannot download from an empty search result.\n",
      "  warnings.warn(\n",
      "C:\\Users\\remon\\AppData\\Local\\Temp\\ipykernel_13560\\1587124623.py:19: LightkurveDeprecationWarning: The search_lightcurvefile function is deprecated and may be removed in a future version.\n",
      "        Use search_lightcurve() instead.\n",
      "  result = lk.search_lightcurvefile(star, mission=\"Kepler\")\n"
     ]
    },
    {
     "name": "stdout",
     "output_type": "stream",
     "text": [
      "❌ Error con KIC 10000200: 'NoneType' object has no attribute 'PDCSAP_FLUX'\n"
     ]
    },
    {
     "name": "stderr",
     "output_type": "stream",
     "text": [
      "c:\\Users\\remon\\OneDrive\\Escritorio\\exoplanet-ml-project\\venv\\Lib\\site-packages\\lightkurve\\search.py:420: LightkurveWarning: Warning: 17 files available to download. Only the first file has been downloaded. Please use `download_all()` or specify additional criteria (e.g. quarter, campaign, or sector) to limit your search.\n",
      "  warnings.warn(\n",
      "C:\\Users\\remon\\AppData\\Local\\Temp\\ipykernel_13560\\1587124623.py:21: LightkurveDeprecationWarning: The PDCSAP_FLUX function is deprecated and may be removed in a future version.\n",
      "  lc = lcf.PDCSAP_FLUX.remove_nans().normalize()\n"
     ]
    },
    {
     "name": "stdout",
     "output_type": "stream",
     "text": [
      "✔️ KIC 10000300 descargado.\n"
     ]
    },
    {
     "name": "stderr",
     "output_type": "stream",
     "text": [
      "C:\\Users\\remon\\AppData\\Local\\Temp\\ipykernel_13560\\1587124623.py:19: LightkurveDeprecationWarning: The search_lightcurvefile function is deprecated and may be removed in a future version.\n",
      "        Use search_lightcurve() instead.\n",
      "  result = lk.search_lightcurvefile(star, mission=\"Kepler\")\n",
      "Could not resolve KIC 10000400 to a sky position.\n",
      "c:\\Users\\remon\\OneDrive\\Escritorio\\exoplanet-ml-project\\venv\\Lib\\site-packages\\lightkurve\\search.py:415: LightkurveWarning: Cannot download from an empty search result.\n",
      "  warnings.warn(\n",
      "C:\\Users\\remon\\AppData\\Local\\Temp\\ipykernel_13560\\1587124623.py:19: LightkurveDeprecationWarning: The search_lightcurvefile function is deprecated and may be removed in a future version.\n",
      "        Use search_lightcurve() instead.\n",
      "  result = lk.search_lightcurvefile(star, mission=\"Kepler\")\n"
     ]
    },
    {
     "name": "stdout",
     "output_type": "stream",
     "text": [
      "❌ Error con KIC 10000400: 'NoneType' object has no attribute 'PDCSAP_FLUX'\n"
     ]
    },
    {
     "name": "stderr",
     "output_type": "stream",
     "text": [
      "c:\\Users\\remon\\OneDrive\\Escritorio\\exoplanet-ml-project\\venv\\Lib\\site-packages\\lightkurve\\search.py:420: LightkurveWarning: Warning: 17 files available to download. Only the first file has been downloaded. Please use `download_all()` or specify additional criteria (e.g. quarter, campaign, or sector) to limit your search.\n",
      "  warnings.warn(\n",
      "C:\\Users\\remon\\AppData\\Local\\Temp\\ipykernel_13560\\1587124623.py:21: LightkurveDeprecationWarning: The PDCSAP_FLUX function is deprecated and may be removed in a future version.\n",
      "  lc = lcf.PDCSAP_FLUX.remove_nans().normalize()\n"
     ]
    },
    {
     "name": "stdout",
     "output_type": "stream",
     "text": [
      "✔️ KIC 10000500 descargado.\n"
     ]
    },
    {
     "name": "stderr",
     "output_type": "stream",
     "text": [
      "C:\\Users\\remon\\AppData\\Local\\Temp\\ipykernel_13560\\1587124623.py:19: LightkurveDeprecationWarning: The search_lightcurvefile function is deprecated and may be removed in a future version.\n",
      "        Use search_lightcurve() instead.\n",
      "  result = lk.search_lightcurvefile(star, mission=\"Kepler\")\n",
      "Could not resolve KIC 10000600 to a sky position.\n",
      "c:\\Users\\remon\\OneDrive\\Escritorio\\exoplanet-ml-project\\venv\\Lib\\site-packages\\lightkurve\\search.py:415: LightkurveWarning: Cannot download from an empty search result.\n",
      "  warnings.warn(\n",
      "C:\\Users\\remon\\AppData\\Local\\Temp\\ipykernel_13560\\1587124623.py:19: LightkurveDeprecationWarning: The search_lightcurvefile function is deprecated and may be removed in a future version.\n",
      "        Use search_lightcurve() instead.\n",
      "  result = lk.search_lightcurvefile(star, mission=\"Kepler\")\n"
     ]
    },
    {
     "name": "stdout",
     "output_type": "stream",
     "text": [
      "❌ Error con KIC 10000600: 'NoneType' object has no attribute 'PDCSAP_FLUX'\n"
     ]
    },
    {
     "name": "stderr",
     "output_type": "stream",
     "text": [
      "Could not resolve KIC 10000700 to a sky position.\n",
      "c:\\Users\\remon\\OneDrive\\Escritorio\\exoplanet-ml-project\\venv\\Lib\\site-packages\\lightkurve\\search.py:415: LightkurveWarning: Cannot download from an empty search result.\n",
      "  warnings.warn(\n",
      "C:\\Users\\remon\\AppData\\Local\\Temp\\ipykernel_13560\\1587124623.py:19: LightkurveDeprecationWarning: The search_lightcurvefile function is deprecated and may be removed in a future version.\n",
      "        Use search_lightcurve() instead.\n",
      "  result = lk.search_lightcurvefile(star, mission=\"Kepler\")\n"
     ]
    },
    {
     "name": "stdout",
     "output_type": "stream",
     "text": [
      "❌ Error con KIC 10000700: 'NoneType' object has no attribute 'PDCSAP_FLUX'\n"
     ]
    },
    {
     "name": "stderr",
     "output_type": "stream",
     "text": [
      "c:\\Users\\remon\\OneDrive\\Escritorio\\exoplanet-ml-project\\venv\\Lib\\site-packages\\lightkurve\\search.py:420: LightkurveWarning: Warning: 17 files available to download. Only the first file has been downloaded. Please use `download_all()` or specify additional criteria (e.g. quarter, campaign, or sector) to limit your search.\n",
      "  warnings.warn(\n",
      "C:\\Users\\remon\\AppData\\Local\\Temp\\ipykernel_13560\\1587124623.py:21: LightkurveDeprecationWarning: The PDCSAP_FLUX function is deprecated and may be removed in a future version.\n",
      "  lc = lcf.PDCSAP_FLUX.remove_nans().normalize()\n"
     ]
    },
    {
     "name": "stdout",
     "output_type": "stream",
     "text": [
      "✔️ KIC 10000800 descargado.\n"
     ]
    },
    {
     "name": "stderr",
     "output_type": "stream",
     "text": [
      "C:\\Users\\remon\\AppData\\Local\\Temp\\ipykernel_13560\\1587124623.py:19: LightkurveDeprecationWarning: The search_lightcurvefile function is deprecated and may be removed in a future version.\n",
      "        Use search_lightcurve() instead.\n",
      "  result = lk.search_lightcurvefile(star, mission=\"Kepler\")\n",
      "Could not resolve KIC 10000900 to a sky position.\n",
      "c:\\Users\\remon\\OneDrive\\Escritorio\\exoplanet-ml-project\\venv\\Lib\\site-packages\\lightkurve\\search.py:415: LightkurveWarning: Cannot download from an empty search result.\n",
      "  warnings.warn(\n",
      "C:\\Users\\remon\\AppData\\Local\\Temp\\ipykernel_13560\\1587124623.py:19: LightkurveDeprecationWarning: The search_lightcurvefile function is deprecated and may be removed in a future version.\n",
      "        Use search_lightcurve() instead.\n",
      "  result = lk.search_lightcurvefile(star, mission=\"Kepler\")\n"
     ]
    },
    {
     "name": "stdout",
     "output_type": "stream",
     "text": [
      "❌ Error con KIC 10000900: 'NoneType' object has no attribute 'PDCSAP_FLUX'\n"
     ]
    },
    {
     "name": "stderr",
     "output_type": "stream",
     "text": [
      "c:\\Users\\remon\\OneDrive\\Escritorio\\exoplanet-ml-project\\venv\\Lib\\site-packages\\lightkurve\\search.py:420: LightkurveWarning: Warning: 17 files available to download. Only the first file has been downloaded. Please use `download_all()` or specify additional criteria (e.g. quarter, campaign, or sector) to limit your search.\n",
      "  warnings.warn(\n",
      "C:\\Users\\remon\\AppData\\Local\\Temp\\ipykernel_13560\\1587124623.py:21: LightkurveDeprecationWarning: The PDCSAP_FLUX function is deprecated and may be removed in a future version.\n",
      "  lc = lcf.PDCSAP_FLUX.remove_nans().normalize()\n"
     ]
    },
    {
     "name": "stdout",
     "output_type": "stream",
     "text": [
      "✔️ KIC 10001000 descargado.\n"
     ]
    },
    {
     "name": "stderr",
     "output_type": "stream",
     "text": [
      "C:\\Users\\remon\\AppData\\Local\\Temp\\ipykernel_13560\\1587124623.py:19: LightkurveDeprecationWarning: The search_lightcurvefile function is deprecated and may be removed in a future version.\n",
      "        Use search_lightcurve() instead.\n",
      "  result = lk.search_lightcurvefile(star, mission=\"Kepler\")\n",
      "Could not resolve KIC 10001100 to a sky position.\n",
      "c:\\Users\\remon\\OneDrive\\Escritorio\\exoplanet-ml-project\\venv\\Lib\\site-packages\\lightkurve\\search.py:415: LightkurveWarning: Cannot download from an empty search result.\n",
      "  warnings.warn(\n",
      "C:\\Users\\remon\\AppData\\Local\\Temp\\ipykernel_13560\\1587124623.py:19: LightkurveDeprecationWarning: The search_lightcurvefile function is deprecated and may be removed in a future version.\n",
      "        Use search_lightcurve() instead.\n",
      "  result = lk.search_lightcurvefile(star, mission=\"Kepler\")\n"
     ]
    },
    {
     "name": "stdout",
     "output_type": "stream",
     "text": [
      "❌ Error con KIC 10001100: 'NoneType' object has no attribute 'PDCSAP_FLUX'\n"
     ]
    },
    {
     "name": "stderr",
     "output_type": "stream",
     "text": [
      "Could not resolve KIC 10001200 to a sky position.\n",
      "c:\\Users\\remon\\OneDrive\\Escritorio\\exoplanet-ml-project\\venv\\Lib\\site-packages\\lightkurve\\search.py:415: LightkurveWarning: Cannot download from an empty search result.\n",
      "  warnings.warn(\n",
      "C:\\Users\\remon\\AppData\\Local\\Temp\\ipykernel_13560\\1587124623.py:19: LightkurveDeprecationWarning: The search_lightcurvefile function is deprecated and may be removed in a future version.\n",
      "        Use search_lightcurve() instead.\n",
      "  result = lk.search_lightcurvefile(star, mission=\"Kepler\")\n"
     ]
    },
    {
     "name": "stdout",
     "output_type": "stream",
     "text": [
      "❌ Error con KIC 10001200: 'NoneType' object has no attribute 'PDCSAP_FLUX'\n"
     ]
    },
    {
     "name": "stderr",
     "output_type": "stream",
     "text": [
      "Could not resolve KIC 10001300 to a sky position.\n",
      "c:\\Users\\remon\\OneDrive\\Escritorio\\exoplanet-ml-project\\venv\\Lib\\site-packages\\lightkurve\\search.py:415: LightkurveWarning: Cannot download from an empty search result.\n",
      "  warnings.warn(\n",
      "C:\\Users\\remon\\AppData\\Local\\Temp\\ipykernel_13560\\1587124623.py:19: LightkurveDeprecationWarning: The search_lightcurvefile function is deprecated and may be removed in a future version.\n",
      "        Use search_lightcurve() instead.\n",
      "  result = lk.search_lightcurvefile(star, mission=\"Kepler\")\n"
     ]
    },
    {
     "name": "stdout",
     "output_type": "stream",
     "text": [
      "❌ Error con KIC 10001300: 'NoneType' object has no attribute 'PDCSAP_FLUX'\n"
     ]
    },
    {
     "name": "stderr",
     "output_type": "stream",
     "text": [
      "Could not resolve KIC 10001400 to a sky position.\n",
      "c:\\Users\\remon\\OneDrive\\Escritorio\\exoplanet-ml-project\\venv\\Lib\\site-packages\\lightkurve\\search.py:415: LightkurveWarning: Cannot download from an empty search result.\n",
      "  warnings.warn(\n",
      "C:\\Users\\remon\\AppData\\Local\\Temp\\ipykernel_13560\\1587124623.py:19: LightkurveDeprecationWarning: The search_lightcurvefile function is deprecated and may be removed in a future version.\n",
      "        Use search_lightcurve() instead.\n",
      "  result = lk.search_lightcurvefile(star, mission=\"Kepler\")\n"
     ]
    },
    {
     "name": "stdout",
     "output_type": "stream",
     "text": [
      "❌ Error con KIC 10001400: 'NoneType' object has no attribute 'PDCSAP_FLUX'\n"
     ]
    },
    {
     "name": "stderr",
     "output_type": "stream",
     "text": [
      "Could not resolve KIC 10001500 to a sky position.\n",
      "c:\\Users\\remon\\OneDrive\\Escritorio\\exoplanet-ml-project\\venv\\Lib\\site-packages\\lightkurve\\search.py:415: LightkurveWarning: Cannot download from an empty search result.\n",
      "  warnings.warn(\n",
      "C:\\Users\\remon\\AppData\\Local\\Temp\\ipykernel_13560\\1587124623.py:19: LightkurveDeprecationWarning: The search_lightcurvefile function is deprecated and may be removed in a future version.\n",
      "        Use search_lightcurve() instead.\n",
      "  result = lk.search_lightcurvefile(star, mission=\"Kepler\")\n"
     ]
    },
    {
     "name": "stdout",
     "output_type": "stream",
     "text": [
      "❌ Error con KIC 10001500: 'NoneType' object has no attribute 'PDCSAP_FLUX'\n"
     ]
    },
    {
     "name": "stderr",
     "output_type": "stream",
     "text": [
      "Could not resolve KIC 10001600 to a sky position.\n",
      "c:\\Users\\remon\\OneDrive\\Escritorio\\exoplanet-ml-project\\venv\\Lib\\site-packages\\lightkurve\\search.py:415: LightkurveWarning: Cannot download from an empty search result.\n",
      "  warnings.warn(\n",
      "C:\\Users\\remon\\AppData\\Local\\Temp\\ipykernel_13560\\1587124623.py:19: LightkurveDeprecationWarning: The search_lightcurvefile function is deprecated and may be removed in a future version.\n",
      "        Use search_lightcurve() instead.\n",
      "  result = lk.search_lightcurvefile(star, mission=\"Kepler\")\n"
     ]
    },
    {
     "name": "stdout",
     "output_type": "stream",
     "text": [
      "❌ Error con KIC 10001600: 'NoneType' object has no attribute 'PDCSAP_FLUX'\n"
     ]
    },
    {
     "name": "stderr",
     "output_type": "stream",
     "text": [
      "Could not resolve KIC 10001700 to a sky position.\n",
      "c:\\Users\\remon\\OneDrive\\Escritorio\\exoplanet-ml-project\\venv\\Lib\\site-packages\\lightkurve\\search.py:415: LightkurveWarning: Cannot download from an empty search result.\n",
      "  warnings.warn(\n",
      "C:\\Users\\remon\\AppData\\Local\\Temp\\ipykernel_13560\\1587124623.py:19: LightkurveDeprecationWarning: The search_lightcurvefile function is deprecated and may be removed in a future version.\n",
      "        Use search_lightcurve() instead.\n",
      "  result = lk.search_lightcurvefile(star, mission=\"Kepler\")\n"
     ]
    },
    {
     "name": "stdout",
     "output_type": "stream",
     "text": [
      "❌ Error con KIC 10001700: 'NoneType' object has no attribute 'PDCSAP_FLUX'\n"
     ]
    },
    {
     "name": "stderr",
     "output_type": "stream",
     "text": [
      "Could not resolve KIC 10001800 to a sky position.\n",
      "c:\\Users\\remon\\OneDrive\\Escritorio\\exoplanet-ml-project\\venv\\Lib\\site-packages\\lightkurve\\search.py:415: LightkurveWarning: Cannot download from an empty search result.\n",
      "  warnings.warn(\n",
      "C:\\Users\\remon\\AppData\\Local\\Temp\\ipykernel_13560\\1587124623.py:19: LightkurveDeprecationWarning: The search_lightcurvefile function is deprecated and may be removed in a future version.\n",
      "        Use search_lightcurve() instead.\n",
      "  result = lk.search_lightcurvefile(star, mission=\"Kepler\")\n"
     ]
    },
    {
     "name": "stdout",
     "output_type": "stream",
     "text": [
      "❌ Error con KIC 10001800: 'NoneType' object has no attribute 'PDCSAP_FLUX'\n"
     ]
    },
    {
     "name": "stderr",
     "output_type": "stream",
     "text": [
      "Could not resolve KIC 10001900 to a sky position.\n",
      "c:\\Users\\remon\\OneDrive\\Escritorio\\exoplanet-ml-project\\venv\\Lib\\site-packages\\lightkurve\\search.py:415: LightkurveWarning: Cannot download from an empty search result.\n",
      "  warnings.warn(\n",
      "C:\\Users\\remon\\AppData\\Local\\Temp\\ipykernel_13560\\1587124623.py:19: LightkurveDeprecationWarning: The search_lightcurvefile function is deprecated and may be removed in a future version.\n",
      "        Use search_lightcurve() instead.\n",
      "  result = lk.search_lightcurvefile(star, mission=\"Kepler\")\n"
     ]
    },
    {
     "name": "stdout",
     "output_type": "stream",
     "text": [
      "❌ Error con KIC 10001900: 'NoneType' object has no attribute 'PDCSAP_FLUX'\n"
     ]
    },
    {
     "name": "stderr",
     "output_type": "stream",
     "text": [
      "Could not resolve KIC 10002000 to a sky position.\n"
     ]
    },
    {
     "name": "stdout",
     "output_type": "stream",
     "text": [
      "❌ Error con KIC 10002000: 'NoneType' object has no attribute 'PDCSAP_FLUX'\n"
     ]
    },
    {
     "name": "stderr",
     "output_type": "stream",
     "text": [
      "c:\\Users\\remon\\OneDrive\\Escritorio\\exoplanet-ml-project\\venv\\Lib\\site-packages\\lightkurve\\search.py:415: LightkurveWarning: Cannot download from an empty search result.\n",
      "  warnings.warn(\n"
     ]
    }
   ],
   "source": [
    "\n",
    "\n",
    "# ------------------------------\n",
    "# PARTE 2: Estrellas sin tránsitos (negativas)\n",
    "# ------------------------------\n",
    "\n",
    "# Lista de KICs sin planetas conocidos (algunos aleatorios)\n",
    "negative_targets = [\n",
    "    \"KIC 757076\", \"KIC 757280\", \"KIC 757450\", \"KIC 757450\", \"KIC 7570766\",\n",
    "    \"KIC 10000100\", \"KIC 10000200\", \"KIC 10000300\", \"KIC 10000400\",\n",
    "    \"KIC 10000500\", \"KIC 10000600\", \"KIC 10000700\", \"KIC 10000800\",\n",
    "    \"KIC 10000900\", \"KIC 10001000\", \"KIC 10001100\", \"KIC 10001200\",\n",
    "    \"KIC 10001300\", \"KIC 10001400\", \"KIC 10001500\", \"KIC 10001600\",\n",
    "    \"KIC 10001700\", \"KIC 10001800\", \"KIC 10001900\", \"KIC 10002000\"\n",
    "]\n",
    "\n",
    "print(\"\\nDescargando estrellas sin planetas (negativas)...\")\n",
    "\n",
    "for star in negative_targets:\n",
    "    try:\n",
    "        result = lk.search_lightcurvefile(star, mission=\"Kepler\")\n",
    "        lcf = result.download()\n",
    "        lc = lcf.PDCSAP_FLUX.remove_nans().normalize()\n",
    "        df = lc.to_pandas()\n",
    "        clean_name = star.replace(\" \", \"\").replace(\"-\", \"\").lower()\n",
    "        df.to_csv(f\"../data/raw/negative/{clean_name}_lc.csv\", index=False)\n",
    "        print(f\"✔️ {star} descargado.\")\n",
    "        time.sleep(1)\n",
    "    except Exception as e:\n",
    "        print(f\"❌ Error con {star}: {e}\")\n"
   ]
  }
 ],
 "metadata": {
  "kernelspec": {
   "display_name": "venv",
   "language": "python",
   "name": "python3"
  },
  "language_info": {
   "codemirror_mode": {
    "name": "ipython",
    "version": 3
   },
   "file_extension": ".py",
   "mimetype": "text/x-python",
   "name": "python",
   "nbconvert_exporter": "python",
   "pygments_lexer": "ipython3",
   "version": "3.13.3"
  }
 },
 "nbformat": 4,
 "nbformat_minor": 5
}
