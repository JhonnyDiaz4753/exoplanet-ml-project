{
 "cells": [
  {
   "cell_type": "code",
   "execution_count": 16,
   "id": "98a57e57",
   "metadata": {},
   "outputs": [
    {
     "name": "stdout",
     "output_type": "stream",
     "text": [
      "Cargando curvas procesadas...\n",
      "Curvas cargadas: 32\n",
      "Extrayendo características con tsfresh...\n"
     ]
    },
    {
     "name": "stderr",
     "output_type": "stream",
     "text": [
      "Feature Extraction: 100%|██████████| 16/16 [00:09<00:00,  1.65it/s]\n"
     ]
    },
    {
     "name": "stdout",
     "output_type": "stream",
     "text": [
      "Características guardadas en data/processed/features_tsfresh.csv\n",
      "Generando gráficos para cada curva...\n"
     ]
    },
    {
     "name": "stderr",
     "output_type": "stream",
     "text": [
      "100%|██████████| 32/32 [00:20<00:00,  1.58it/s]"
     ]
    },
    {
     "name": "stdout",
     "output_type": "stream",
     "text": [
      "✅ Gráficos generados y guardados en reports/figures/\n"
     ]
    },
    {
     "name": "stderr",
     "output_type": "stream",
     "text": [
      "\n"
     ]
    }
   ],
   "source": [
    "import os\n",
    "import pandas as pd\n",
    "import matplotlib.pyplot as plt\n",
    "from tsfresh import extract_features\n",
    "from tsfresh.feature_extraction import EfficientFCParameters\n",
    "from tqdm import tqdm\n",
    "import numpy as np\n",
    "\n",
    "# Directorios\n",
    "PROCESSED_DIR = \"../data/processed\"\n",
    "FIGURES_DIR = \"../reports/figures\"\n",
    "os.makedirs(FIGURES_DIR, exist_ok=True)\n",
    "\n",
    "# Función para guardar figura y texto descriptivo\n",
    "def save_figure_with_description(fig, fig_name, description):\n",
    "    folder = os.path.join(FIGURES_DIR, fig_name.replace(\" \", \"_\"))\n",
    "    os.makedirs(folder, exist_ok=True)\n",
    "    \n",
    "    image_path = os.path.join(folder, \"image.png\")\n",
    "    txt_path = os.path.join(folder, \"description.txt\")\n",
    "    \n",
    "    fig.savefig(image_path)\n",
    "    plt.close(fig)\n",
    "    \n",
    "    with open(txt_path, \"w\") as f:\n",
    "        f.write(description)\n",
    "\n",
    "# Función para cargar todas las curvas de una clase (positive o negative)\n",
    "def load_curves(label):\n",
    "    path = os.path.join(PROCESSED_DIR, label)\n",
    "    files = [f for f in os.listdir(path) if f.endswith(\".csv\")]\n",
    "    data = []\n",
    "    for file in files:\n",
    "        df = pd.read_csv(os.path.join(path, file))\n",
    "        df[\"id\"] = file.replace(\".csv\", \"\")\n",
    "        df[\"label\"] = 1 if label == \"positive\" else 0\n",
    "        data.append(df)\n",
    "    return pd.concat(data)\n",
    "\n",
    "print(\"Cargando curvas procesadas...\")\n",
    "df_positive = load_curves(\"positive\")\n",
    "df_negative = load_curves(\"negative\")\n",
    "\n",
    "df_all = pd.concat([df_positive, df_negative])\n",
    "print(f\"Curvas cargadas: {len(df_all['id'].unique())}\")\n",
    "\n",
    "# ----------------------------------\n",
    "# Extracción de características con tsfresh\n",
    "# ----------------------------------\n",
    "\n",
    "print(\"Extrayendo características con tsfresh...\")\n",
    "settings = EfficientFCParameters()\n",
    "\n",
    "# tsfresh espera un DataFrame con columnas: id, time, flux\n",
    "features = extract_features(df_all[[\"id\", \"time\", \"flux\"]], column_id=\"id\", column_sort=\"time\", default_fc_parameters=settings)\n",
    "\n",
    "# Agregamos la columna label para cada id\n",
    "labels = df_all.groupby(\"id\")[\"label\"].first()\n",
    "features[\"label\"] = labels\n",
    "\n",
    "# Guardamos características en CSV\n",
    "features.to_csv(\"../data/processed/features_tsfresh.csv\")\n",
    "print(\"Características guardadas en data/processed/features_tsfresh.csv\")\n",
    "\n",
    "# ----------------------------------\n",
    "# Generar gráficos para cada curva\n",
    "# ----------------------------------\n",
    "\n",
    "print(\"Generando gráficos para cada curva...\")\n",
    "\n",
    "for curve_id, group in tqdm(df_all.groupby(\"id\")):\n",
    "    # Gráfico 1: Curva de luz normalizada\n",
    "    fig1, ax1 = plt.subplots(figsize=(8,4))\n",
    "    ax1.plot(group[\"time\"], group[\"flux\"], color=\"blue\")\n",
    "    ax1.set_title(f\"Curva de luz normalizada - {curve_id}\")\n",
    "    ax1.set_xlabel(\"Tiempo [días]\")\n",
    "    ax1.set_ylabel(\"Flujo normalizado\")\n",
    "    fig_name1 = f\"Curva de luz normalizada - {curve_id}\"\n",
    "    desc1 = (\"Este gráfico muestra la curva de luz normalizada de la estrella.\\n\"\n",
    "             \"El eje X representa el tiempo en días, el eje Y es el flujo normalizado.\\n\"\n",
    "             \"Se observa la variabilidad típica y posibles tránsitos en las curvas positivas.\")\n",
    "    save_figure_with_description(fig1, fig_name1, desc1)\n",
    "\n",
    "    # Gráfico 2: Histograma de flujo\n",
    "    fig2, ax2 = plt.subplots(figsize=(6,4))\n",
    "    ax2.hist(group[\"flux\"], bins=50, color=\"green\", alpha=0.7)\n",
    "    ax2.set_title(f\"Histograma de flujo - {curve_id}\")\n",
    "    ax2.set_xlabel(\"Flujo normalizado\")\n",
    "    ax2.set_ylabel(\"Frecuencia\")\n",
    "    fig_name2 = f\"Histograma de flujo - {curve_id}\"\n",
    "    desc2 = (\"Histograma que muestra la distribución del flujo normalizado de la curva de luz.\\n\"\n",
    "             \"Permite visualizar la simetría y dispersión del flujo durante el período observado.\")\n",
    "    save_figure_with_description(fig2, fig_name2, desc2)\n",
    "\n",
    "print(\"✅ Gráficos generados y guardados en reports/figures/\")\n",
    "\n"
   ]
  }
 ],
 "metadata": {
  "kernelspec": {
   "display_name": "venv",
   "language": "python",
   "name": "python3"
  },
  "language_info": {
   "codemirror_mode": {
    "name": "ipython",
    "version": 3
   },
   "file_extension": ".py",
   "mimetype": "text/x-python",
   "name": "python",
   "nbconvert_exporter": "python",
   "pygments_lexer": "ipython3",
   "version": "3.13.3"
  }
 },
 "nbformat": 4,
 "nbformat_minor": 5
}
